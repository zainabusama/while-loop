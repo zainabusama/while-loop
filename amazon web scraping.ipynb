{
 "cells": [
  {
   "cell_type": "code",
   "execution_count": 74,
   "id": "a0303b2d-40c8-4b6b-9ab9-f7ed2534ac1d",
   "metadata": {
    "tags": []
   },
   "outputs": [],
   "source": [
    "from bs4 import BeautifulSoup\n",
    "import requests\n",
    "import smtplib\n",
    "import time\n",
    "import datetime "
   ]
  },
  {
   "cell_type": "code",
   "execution_count": 75,
   "id": "963398aa-c003-4629-bba0-5e0f551ad2d2",
   "metadata": {
    "tags": []
   },
   "outputs": [],
   "source": [
    "url = 'https://www.amazon.eg/-/en/dp/B0CGXJJN8S/ref=s9_acsd_al_bw_c2_x_0_i?pf_rd_m=A1ZVRGNO5AYLOV&pf_rd_s=merchandised-search-5&pf_rd_r=9XZGT5EYC6YWHE63FH29&pf_rd_t=101&pf_rd_p=f22e6d94-ffbf-45bd-8230-d899762bbf5c&pf_rd_i=18021933031'"
   ]
  },
  {
   "cell_type": "code",
   "execution_count": 76,
   "id": "c03f6b25-a76b-422c-af08-d771d50ed4cf",
   "metadata": {
    "tags": []
   },
   "outputs": [],
   "source": [
    "headers = {\"User-Agent\": \"Mozilla/5.0 (Windows NT 10.0; Win64; x64) AppleWebKit/537.36 (KHTML, like Gecko) Chrome/78.0.3904.108 Safari/537.36\", \"Accept-Encoding\":\"gzip, deflate\", \"Accept\":\"text/html,application/xhtml+xml,application/xml;q=0.9,*/*;q=0.8\", \"DNT\":\"1\",\"Connection\":\"close\", \"Upgrade-Insecure-Requests\":\"1\"}\n"
   ]
  },
  {
   "cell_type": "code",
   "execution_count": 77,
   "id": "a5eb81ba-b8be-4495-8e2e-af07f7ad25ba",
   "metadata": {
    "tags": []
   },
   "outputs": [],
   "source": [
    "page = requests.get (url,headers = headers)"
   ]
  },
  {
   "cell_type": "code",
   "execution_count": 63,
   "id": "4070fb2a-afc7-495f-aa49-82f2e9064133",
   "metadata": {
    "tags": []
   },
   "outputs": [
    {
     "data": {
      "text/plain": [
       "<Response [200]>"
      ]
     },
     "execution_count": 63,
     "metadata": {},
     "output_type": "execute_result"
    }
   ],
   "source": [
    "page"
   ]
  },
  {
   "cell_type": "code",
   "execution_count": 78,
   "id": "da8a49c5-2a23-4691-8f0c-c6941c5d7716",
   "metadata": {
    "tags": []
   },
   "outputs": [],
   "source": [
    "soup1 =BeautifulSoup(page.content,\"html.parser\")"
   ]
  },
  {
   "cell_type": "code",
   "execution_count": 79,
   "id": "9bd5b735-be8a-4889-93e4-ededf67ab406",
   "metadata": {
    "tags": []
   },
   "outputs": [],
   "source": [
    "soup2 =BeautifulSoup(soup1.prettify(),\"html.parser\")"
   ]
  },
  {
   "cell_type": "code",
   "execution_count": 80,
   "id": "8c932b47-260b-4157-ba5b-ed735a9334ec",
   "metadata": {
    "tags": []
   },
   "outputs": [],
   "source": [
    "title = soup2.find(id ='productTitle').get_text()"
   ]
  },
  {
   "cell_type": "code",
   "execution_count": 81,
   "id": "a4b651d9-e5b1-4fa8-80d9-63da82c9f69f",
   "metadata": {
    "tags": []
   },
   "outputs": [
    {
     "name": "stdout",
     "output_type": "stream",
     "text": [
      "\n",
      "            Venus Fixed Emergency Bit and LED Night Light of J Venus\n",
      "           \n"
     ]
    }
   ],
   "source": [
    "print(title)"
   ]
  },
  {
   "cell_type": "code",
   "execution_count": 82,
   "id": "6c32c190-6cb6-42cd-98af-e3d252f88433",
   "metadata": {
    "tags": []
   },
   "outputs": [],
   "source": [
    "price = soup2.find (id ='corePriceDisplay_desktop_feature_div').get_text()\n"
   ]
  },
  {
   "cell_type": "code",
   "execution_count": 83,
   "id": "07912a26-b7e5-4c64-9ffb-854b7cbe6389",
   "metadata": {
    "tags": []
   },
   "outputs": [],
   "source": [
    "price = price.strip()[3:9]\n",
    "title = title.strip()"
   ]
  },
  {
   "cell_type": "code",
   "execution_count": 84,
   "id": "414f4cc3-7758-4fb3-9b0f-a79472954666",
   "metadata": {
    "tags": []
   },
   "outputs": [
    {
     "name": "stdout",
     "output_type": "stream",
     "text": [
      "340.00\n",
      "Venus Fixed Emergency Bit and LED Night Light of J Venus\n"
     ]
    }
   ],
   "source": [
    "print(price)\n",
    "print(title)"
   ]
  },
  {
   "cell_type": "code",
   "execution_count": 85,
   "id": "35c123c5-f482-468e-a665-8b61d5dfdeb2",
   "metadata": {
    "tags": []
   },
   "outputs": [
    {
     "name": "stdout",
     "output_type": "stream",
     "text": [
      "2023-10-10\n"
     ]
    }
   ],
   "source": [
    "import datetime\n",
    "today = datetime.date.today()\n",
    "print(today)"
   ]
  },
  {
   "cell_type": "code",
   "execution_count": 86,
   "id": "f4ba9a43-954f-4a48-9374-ff13d1b36858",
   "metadata": {
    "tags": []
   },
   "outputs": [
    {
     "name": "stdout",
     "output_type": "stream",
     "text": [
      "['title', 'price', 'date']\n",
      "('Venus Fixed Emergency Bit and LED Night Light of J Venus', '340.00', datetime.date(2023, 10, 10))\n"
     ]
    }
   ],
   "source": [
    "import csv \n",
    "header = ['title','price','date']\n",
    "print(header)\n",
    "data =(title,price,today)\n",
    "print(data)"
   ]
  },
  {
   "cell_type": "code",
   "execution_count": 53,
   "id": "1b4a46e1-3750-41c4-98ab-4245af0fa5c1",
   "metadata": {
    "tags": []
   },
   "outputs": [
    {
     "name": "stdout",
     "output_type": "stream",
     "text": [
      "2023-10-10\n"
     ]
    }
   ],
   "source": []
  },
  {
   "cell_type": "code",
   "execution_count": 96,
   "id": "5b6d13dc-07f5-45d3-b06a-dacdc24e1316",
   "metadata": {
    "tags": []
   },
   "outputs": [],
   "source": [
    "with open ('AmazonwebscraperDataset.csv','w',newline ='' ,encoding = 'UTF8') as f :\n",
    "        writer = csv.writer(f)\n",
    "        writer.writerow(header)\n",
    "        writer.writerow(data)\n",
    "    \n",
    "  "
   ]
  },
  {
   "cell_type": "code",
   "execution_count": 101,
   "id": "cfa42aa2-caf6-4cd7-8215-84e53d8fbf9c",
   "metadata": {
    "tags": []
   },
   "outputs": [],
   "source": [
    "import pandas as pd \n",
    "df =pd.read_csv(r'C:\\Users\\ThisPC\\Contacts\\AmazonwebscraperDataset.csv')"
   ]
  },
  {
   "cell_type": "code",
   "execution_count": 102,
   "id": "6116cb40-40a9-4861-9086-36f7cb29ad34",
   "metadata": {
    "tags": []
   },
   "outputs": [
    {
     "data": {
      "text/html": [
       "<div>\n",
       "<style scoped>\n",
       "    .dataframe tbody tr th:only-of-type {\n",
       "        vertical-align: middle;\n",
       "    }\n",
       "\n",
       "    .dataframe tbody tr th {\n",
       "        vertical-align: top;\n",
       "    }\n",
       "\n",
       "    .dataframe thead th {\n",
       "        text-align: right;\n",
       "    }\n",
       "</style>\n",
       "<table border=\"1\" class=\"dataframe\">\n",
       "  <thead>\n",
       "    <tr style=\"text-align: right;\">\n",
       "      <th></th>\n",
       "      <th>title</th>\n",
       "      <th>price</th>\n",
       "      <th>date</th>\n",
       "    </tr>\n",
       "  </thead>\n",
       "  <tbody>\n",
       "    <tr>\n",
       "      <th>0</th>\n",
       "      <td>Venus Fixed Emergency Bit and LED Night Light ...</td>\n",
       "      <td>340.0</td>\n",
       "      <td>2023-10-10</td>\n",
       "    </tr>\n",
       "    <tr>\n",
       "      <th>1</th>\n",
       "      <td>Venus Fixed Emergency Bit and LED Night Light ...</td>\n",
       "      <td>340.0</td>\n",
       "      <td>2023-10-10</td>\n",
       "    </tr>\n",
       "  </tbody>\n",
       "</table>\n",
       "</div>"
      ],
      "text/plain": [
       "                                               title  price        date\n",
       "0  Venus Fixed Emergency Bit and LED Night Light ...  340.0  2023-10-10\n",
       "1  Venus Fixed Emergency Bit and LED Night Light ...  340.0  2023-10-10"
      ]
     },
     "execution_count": 102,
     "metadata": {},
     "output_type": "execute_result"
    }
   ],
   "source": [
    "df"
   ]
  },
  {
   "cell_type": "code",
   "execution_count": 99,
   "id": "5cfdd177-d50b-42fb-9aaa-517258a2a3ab",
   "metadata": {
    "tags": []
   },
   "outputs": [],
   "source": [
    "with open ('AmazonwebscraperDataset.csv','a+',newline ='' ,encoding = 'UTF8') as f :\n",
    "        writer = csv.writer(f)\n",
    "        writer.writerow(data)"
   ]
  },
  {
   "cell_type": "code",
   "execution_count": 103,
   "id": "6e9111a7-e029-4963-9bc2-d981f0c75e8c",
   "metadata": {
    "tags": []
   },
   "outputs": [],
   "source": [
    "def check_price():\n",
    "    url = 'https://www.amazon.eg/-/en/dp/B0CGXJJN8S/ref=s9_acsd_al_bw_c2_x_0_i?pf_rd_m=A1ZVRGNO5AYLOV&pf_rd_s=merchandised-search-5&pf_rd_r=9XZGT5EYC6YWHE63FH29&pf_rd_t=101&pf_rd_p=f22e6d94-ffbf-45bd-8230-d899762bbf5c&pf_rd_i=18021933031'\n",
    "    headers = {\"User-Agent\": \"Mozilla/5.0 (Windows NT 10.0; Win64; x64) AppleWebKit/537.36 (KHTML, like Gecko) Chrome/78.0.3904.108 Safari/537.36\", \"Accept-Encoding\":\"gzip, deflate\", \"Accept\":\"text/html,application/xhtml+xml,application/xml;q=0.9,*/*;q=0.8\", \"DNT\":\"1\",\"Connection\":\"close\", \"Upgrade-Insecure-Requests\":\"1\"}\n",
    "    page = requests.get (url,headers = headers)\n",
    "    soup1 =BeautifulSoup(page.content,\"html.parser\")\n",
    "    soup2 =BeautifulSoup(soup1.prettify(),\"html.parser\")\n",
    "    title = soup2.find(id ='productTitle').get_text()\n",
    "    price = soup2.find (id ='corePriceDisplay_desktop_feature_div').get_text()\n",
    "    price = price.strip()[3:9]\n",
    "    title = title.strip()\n",
    "    import datetime\n",
    "    today = datetime.date.today()\n",
    "    import csv \n",
    "    header = ['title','price','date']\n",
    "    data =(title,price,today)\n",
    "    with open ('AmazonwebscraperDataset.csv','a+',newline ='' ,encoding = 'UTF8') as f :\n",
    "        writer = csv.writer(f)\n",
    "        writer.writerow(data)\n",
    "\n",
    "\n",
    "    \n",
    "    "
   ]
  },
  {
   "cell_type": "code",
   "execution_count": null,
   "id": "02790b3b-4166-4ba8-a2f6-0fe35721a383",
   "metadata": {
    "tags": []
   },
   "outputs": [],
   "source": [
    "while(True):\n",
    "    check_price()\n",
    "    time.sleep(86400)\n",
    "    "
   ]
  },
  {
   "cell_type": "code",
   "execution_count": null,
   "id": "c32c8cbf-a4fd-4641-973e-e6bfb1e82a70",
   "metadata": {},
   "outputs": [],
   "source": []
  }
 ],
 "metadata": {
  "kernelspec": {
   "display_name": "Python 3 (ipykernel)",
   "language": "python",
   "name": "python3"
  },
  "language_info": {
   "codemirror_mode": {
    "name": "ipython",
    "version": 3
   },
   "file_extension": ".py",
   "mimetype": "text/x-python",
   "name": "python",
   "nbconvert_exporter": "python",
   "pygments_lexer": "ipython3",
   "version": "3.11.4"
  }
 },
 "nbformat": 4,
 "nbformat_minor": 5
}
